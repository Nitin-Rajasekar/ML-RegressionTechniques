{
 "cells": [
  {
   "cell_type": "markdown",
   "metadata": {},
   "source": [
    "## Background about the dataset\n",
    "\n",
    "We have 4 independent variables (`float`) for each molecule. We can use a linear combination of these 4 independent variables to predict the bandgap (dependent variable) of each molecule.\n",
    "\n",
    "More about the problem is at [Li et al, Bandgap tuning strategy by cations and halide ions of lead halide perovskites learned from machine learning, RSC Adv., 2021,11, 15688-15694](https://doi.org/10.1039/D1RA03117A)."
   ]
  },
  {
   "cell_type": "code",
   "execution_count": 1,
   "metadata": {},
   "outputs": [],
   "source": [
    "import csv\n",
    "import random\n",
    "import numpy as np"
   ]
  },
  {
   "cell_type": "code",
   "execution_count": 2,
   "metadata": {},
   "outputs": [],
   "source": [
    "all_molecules = list()\n",
    "\n",
    "with open('bg_data.txt', 'r') as infile:\n",
    "    input_rows = csv.DictReader(infile)\n",
    "    \n",
    "    for row in input_rows:\n",
    "        current_mol = ([float(row['Cs']), float(row['FA']), float(row['Cl']), float(row['Br'])], float(row['Bandgap']))\n",
    "        all_molecules.append(current_mol)\n",
    "\n",
    "random.shuffle(all_molecules)\n",
    "\n",
    "\n",
    "num_train = int(len(all_molecules) * 0.8)\n",
    "\n",
    "# each point in x_train has 4 values - 1 for each feature\n",
    "x_train = [x[0] for x in all_molecules[:num_train]]\n",
    "# each point in y_train has 1 value - the bandgap of the molecule\n",
    "y_train = [x[1] for x in all_molecules[:num_train]]\n",
    "\n",
    "x_test = [x[0] for x in all_molecules[num_train:]]\n",
    "y_test = [x[1] for x in all_molecules[num_train:]]"
   ]
  },
  {
   "cell_type": "markdown",
   "metadata": {},
   "source": [
    "As part of linear regression, we attempt to model a relationship between the input data and labels making use of a linear approach.\n",
    "The input molecular data is of four dimension, making the resultant line to be be of the form $w_0+w_1*x_1+w_2*x_2+w_3*x_3+w_4*x_4$\n",
    "<br>where w_0, w_1, w_2, w_3, w_4 are the required co-efficients while x_n represents the input datapoints.\n",
    "<br>\n",
    "We make use of the gradient descent method to obtain ideal values of the co-efficients.\n",
    "<br>\n",
    "We thus first set default values, setting them all to be 1.\n",
    "<br>\n",
    "Our aim is to move towards co-efficient values for whom the loss-function returns the least value.\n",
    "<br>\n",
    "The loss function makes use of the mean square error to determine how well the linear model generated fits the data.\n",
    "<br>\n",
    "So for a co-efficient $w_n$, its updated value would come out as \n",
    "<br>\n",
    "$w_n-lr$ * deriviative of loss function) wrt $w_n$\n",
    "<br>\n",
    "where $lr$ is the learning rate\n",
    "<br>\n",
    "Proceeding thus for al the co-efficients, after a reasonable amount of iterations we come upon close to ideal values."
   ]
  },
  {
   "cell_type": "markdown",
   "metadata": {},
   "source": [
    "<!-- your answer to 1.1.1 -->"
   ]
  },
  {
   "cell_type": "code",
   "execution_count": 3,
   "metadata": {},
   "outputs": [],
   "source": [
    "#function for determining output for a given set of coefficients and values\n",
    "def out_func(a,b,c,d,w_use):\n",
    "    return w_use[0]+w_use[1]*a+w_use[2]*b+w_use[3]*c + w_use[4]*d"
   ]
  },
  {
   "cell_type": "code",
   "execution_count": 4,
   "metadata": {},
   "outputs": [],
   "source": [
    "#loss function\n",
    "def loss_func(w):\n",
    "    count=0\n",
    "    error=0\n",
    "    for i in x_train:\n",
    "        expected=y_train[count]\n",
    "        obtained=out_func(i[0],i[1],i[2],i[3],w)\n",
    "        error+=(obtained-expected)**2\n",
    "        count=count+1\n",
    "    error=error/count\n",
    "    return error          "
   ]
  },
  {
   "cell_type": "code",
   "execution_count": 5,
   "metadata": {},
   "outputs": [],
   "source": [
    "def derivative_0(w):\n",
    "    count=0\n",
    "    deriv=0\n",
    "    for i in x_train:\n",
    "        expected=y_train[count]\n",
    "        obtained=out_func(i[0],i[1],i[2],i[3],w)\n",
    "        deriv+=(obtained-expected)\n",
    "        count=count+1\n",
    "    deriv=deriv*2\n",
    "    deriv=deriv/count\n",
    "    return deriv\n",
    "\n",
    "def derivative_1(w):\n",
    "    count=0\n",
    "    deriv=0\n",
    "    for i in x_train:\n",
    "        expected=y_train[count]\n",
    "        obtained=out_func(i[0],i[1],i[2],i[3],w)\n",
    "        deriv+=i[0]*(obtained-expected)\n",
    "        count=count+1\n",
    "    deriv=deriv*2\n",
    "    deriv=deriv/count\n",
    "    return deriv\n",
    "\n",
    "def derivative_2(w):\n",
    "    count=0\n",
    "    deriv=0\n",
    "    for i in x_train:\n",
    "        expected=y_train[count]\n",
    "        obtained=out_func(i[0],i[1],i[2],i[3],w)\n",
    "        deriv+=i[1]*(obtained-expected)\n",
    "        count=count+1\n",
    "    deriv=deriv*2\n",
    "    deriv=deriv/count\n",
    "    return deriv\n",
    "\n",
    "def derivative_3(w):\n",
    "    count=0\n",
    "    deriv=0\n",
    "    for i in x_train:\n",
    "        expected=y_train[count]\n",
    "        obtained=out_func(i[0],i[1],i[2],i[3],w)\n",
    "        deriv+=i[2]*(obtained-expected)\n",
    "        count=count+1\n",
    "    deriv=deriv*2\n",
    "    deriv=deriv/count\n",
    "    return deriv\n",
    "\n",
    "def derivative_4(w):\n",
    "    count=0\n",
    "    deriv=0\n",
    "    for i in x_train:\n",
    "        expected=y_train[count]\n",
    "        obtained=out_func(i[0],i[1],i[2],i[3],w)\n",
    "        deriv+=i[3]*(obtained-expected)\n",
    "        count=count+1\n",
    "    deriv=deriv*2\n",
    "    deriv=deriv/count\n",
    "    return deriv"
   ]
  },
  {
   "cell_type": "code",
   "execution_count": 6,
   "metadata": {},
   "outputs": [
    {
     "name": "stdout",
     "output_type": "stream",
     "text": [
      "The learning rate which resulted in the lowest MSE value is: 0.081\n",
      "The resultant lowest MSE value obtained is0.005747773444336091\n",
      "The most suitable co-efficients obtained are[1.6105976092356586, -0.018196638649458866, -0.13548440828202216, 1.531018036649007, 0.6280742300908622]\n"
     ]
    }
   ],
   "source": [
    "min_loss_func=100\n",
    "w=[1,1,1,1,1]\n",
    "for j in range(1,100):\n",
    "\n",
    "    learning_rate =j/1000\n",
    "    for i in range(100):\n",
    "        w[0]=w[0]-learning_rate*derivative_0(w)\n",
    "        w[1]=w[1]-learning_rate*derivative_1(w)\n",
    "        w[2]=w[2]-learning_rate*derivative_2(w)\n",
    "        w[3]=w[3]-learning_rate*derivative_3(w)\n",
    "        w[4]=w[4]-learning_rate*derivative_4(w)\n",
    "        \n",
    "    if loss_func(w)<min_loss_func:\n",
    "        min_loss_func=loss_func(w)\n",
    "        best_w=w\n",
    "        best_learning_rate=learning_rate\n",
    "        \n",
    "print(\"The learning rate which resulted in the lowest MSE value is: \"+str(best_learning_rate))\n",
    "print(\"The resultant lowest MSE value obtained is\" + str(min_loss_func))\n",
    "print(\"The most suitable co-efficients obtained are\"+str(best_w))\n",
    "    \n",
    "        "
   ]
  },
  {
   "cell_type": "code",
   "execution_count": 7,
   "metadata": {},
   "outputs": [],
   "source": [
    "y_pred=[]\n",
    "for i in x_test:    \n",
    "    result=out_func(i[0],i[1],i[2],i[3],best_w)\n",
    "    y_pred.append(result)"
   ]
  },
  {
   "cell_type": "code",
   "execution_count": 8,
   "metadata": {
    "scrolled": true
   },
   "outputs": [
    {
     "data": {
      "image/png": "[encoded data removed]",
      "text/plain": [
       "<Figure size 720x1440 with 1 Axes>"
      ]
     },
     "metadata": {
      "needs_background": "light"
     },
     "output_type": "display_data"
    }
   ],
   "source": [
    "\n",
    "import matplotlib.pyplot as plt\n",
    "fig, ax = plt.subplots(figsize=(10,20))\n",
    "\n",
    "ax.scatter(y_test, y_pred)\n",
    "\n",
    "lims = [\n",
    "    np.min([ax.get_xlim(), ax.get_ylim()]),\n",
    "    np.max([ax.get_xlim(), ax.get_ylim()]),\n",
    "]\n",
    "ax.plot(lims, lims, 'k-', alpha=0.75, zorder=0)\n",
    "ax.set_aspect('equal')\n",
    "ax.set_xlim(lims)\n",
    "ax.set_ylim(lims)\n",
    "\n",
    "ax.set_title('Parity Plot of Custom Linear Regression')\n",
    "ax.set_xlabel('Ground truth bandgap values')\n",
    "ax.set_ylabel('Predicted bandgap values')\n",
    "plt.show()"
   ]
  },
  {
   "cell_type": "markdown",
   "metadata": {},
   "source": [
    "### Ridge regression\n"
   ]
  },
  {
   "cell_type": "markdown",
   "metadata": {},
   "source": [
    "Ridge regression is employed to correct a model which suffers from multicollinearity due to overfitting, wheree independent variables are so closely related. When this happens, the model often performs poorly on testing data that is even slightly varied fmor the training data.\n",
    "\n",
    "Ridge regression helps remedy this by penalizing overfitting - when the slope of the model on the training data is too high.\n",
    "So rather than simply minimizing the mean square error, now the minimum of $(MSE + alpha*(slope)^2)$ is minimized.\n"
   ]
  },
  {
   "cell_type": "markdown",
   "metadata": {},
   "source": [
    "<!-- Your answer to 1.2.1 -->"
   ]
  },
  {
   "cell_type": "code",
   "execution_count": 9,
   "metadata": {},
   "outputs": [
    {
     "name": "stdout",
     "output_type": "stream",
     "text": [
      "Alpha\tRMSE\n",
      "0.0001\t0.06986568998177588\n",
      "0.001\t0.06986611613451214\n",
      "0.01\t0.06987039334391928\n",
      "0.1\t0.06991472708492434\n",
      "1\t0.07050770026052622\n",
      "10\t0.08583038278571804\n",
      "100\t0.23185743998341715\n",
      "1000\t0.4056444609246328\n",
      "10000\t0.4445290589572261\n"
     ]
    }
   ],
   "source": [
    "# you should not have imported sklearn before this point\n",
    "import sklearn\n",
    "from sklearn.linear_model import Ridge\n",
    "from sklearn.metrics import mean_squared_error\n",
    "from sklearn.pipeline import make_pipeline\n",
    "from sklearn.preprocessing import StandardScaler\n",
    "import math\n",
    "\n",
    "\n",
    "    \n",
    "\n",
    "\n",
    "\n",
    "# implement Ridge regression and make a table where you explore the effect of different values of `alpha`\n",
    "\n",
    "alpha_values=[0.0001, 0.001, 0.01, 0.1, 1, 10, 100, 1000, 10000]\n",
    "\n",
    "print(\"Alpha\"+\"\\t\"+\"RMSE\")\n",
    "\n",
    "for i in alpha_values:\n",
    "\n",
    "    pipeline = make_pipeline(StandardScaler(), Ridge(alpha=i))\n",
    "    pipeline.fit(x_train, y_train)\n",
    "\n",
    "    y_train_pred = pipeline.predict(x_train)\n",
    "    y_test_pred = pipeline.predict(x_test)\n",
    "\n",
    "    \n",
    "    print(str(i)+\"\\t\"+str(math.sqrt(mean_squared_error(y_test, y_test_pred))))"
   ]
  },
  {
   "cell_type": "markdown",
   "metadata": {},
   "source": [
    "$Alpha$ represents the magnitude of the penalty which will be imposed on overfitting, part of \n",
    "<br>\n",
    " $min(MSE+alpha∗(slope)^2)$\n",
    "<br>\n",
    "A higher value of penalty would thus reduce the root mean square error on the data as it would prevent the model from fitting, ie. reduce the rmse loss function to a greater extent.\n",
    "<br>\n",
    "We can thus observe the rmse value increase as alpha increases."
   ]
  },
  {
   "cell_type": "markdown",
   "metadata": {},
   "source": [
    "### Lasso regression\n"
   ]
  },
  {
   "cell_type": "markdown",
   "metadata": {},
   "source": [
    "Similar to ridge regression, lasso regreesion also attempts to help avoid models which overfit the training and data and result in overfitting, so as to enable the model to perform better against varied training data.\n",
    "<br>\n",
    "It similarly introduces a bias term in the traditional MSE function. However instead of squaring the slope, it takes its absolute value, resulting in minimizing \n",
    "<br>\n",
    "$(MSE + alpha*abs(slope))$ .\n",
    "<br>\n",
    "Lasso regression has the further advantage of being able to reduce the slope to zero and is useful for feature selection."
   ]
  },
  {
   "cell_type": "code",
   "execution_count": 10,
   "metadata": {},
   "outputs": [
    {
     "name": "stdout",
     "output_type": "stream",
     "text": [
      "Alpha\tRMSE\n",
      "0.0001\t0.06986246394248338\n",
      "0.001\t0.06985735543965566\n",
      "0.01\t0.07030314216685174\n",
      "0.1\t0.17347789266203523\n",
      "1\t0.4494104823490742\n",
      "10\t0.4494104823490742\n",
      "100\t0.4494104823490742\n",
      "1000\t0.4494104823490742\n",
      "10000\t0.4494104823490742\n"
     ]
    }
   ],
   "source": [
    "import sklearn\n",
    "from sklearn.linear_model import Lasso\n",
    "from sklearn.metrics import mean_squared_error\n",
    "from sklearn.pipeline import make_pipeline\n",
    "from sklearn.preprocessing import StandardScaler\n",
    "import math\n",
    "\n",
    "alpha_values=[0.0001, 0.001, 0.01, 0.1, 1, 10, 100, 1000, 10000]\n",
    "\n",
    "print(\"Alpha\"+\"\\t\"+\"RMSE\")\n",
    "\n",
    "for i in alpha_values:\n",
    "\n",
    "    pipeline = make_pipeline(StandardScaler(), Lasso(alpha=i))\n",
    "    pipeline.fit(x_train, y_train)\n",
    "\n",
    "    y_train_pred = pipeline.predict(x_train)\n",
    "    y_test_pred = pipeline.predict(x_test)\n",
    "\n",
    "    \n",
    "    print(str(i)+\"\\t\"+str(math.sqrt(mean_squared_error(y_test, y_test_pred))))"
   ]
  },
  {
   "cell_type": "markdown",
   "metadata": {},
   "source": [
    "$Alpha$ represents the magnitude of the penalty which will be imposed on overfitting, part of \n",
    "\n",
    " $min(MSE+alpha∗abs(slope))$\n",
    "\n",
    "Again, the higher the value of penalty is, the higher the rmse is as close fitting is discouraged.\n",
    "\n",
    "However we also notice that in contrast to Ridge regression, the RMSE values increase at a faster rate as the value of alpha is increased. For instance although the RMSE values at 0.0001 and 10000 are similar, the RMSE value for ridge regression at 0.1 is around 0.06 while it is around 0.16 for lasso regression. This may be due to the variations in the formulae, where due to the square term in the ridge equation, the influence of alpha values lesser than 1 is decreased as compared to lasso regression."
   ]
  }
 ],
 "metadata": {
  "kernelspec": {
   "display_name": "Python 3 (ipykernel)",
   "language": "python",
   "name": "python3"
  },
  "language_info": {
   "codemirror_mode": {
    "name": "ipython",
    "version": 3
   },
   "file_extension": ".py",
   "mimetype": "text/x-python",
   "name": "python",
   "nbconvert_exporter": "python",
   "pygments_lexer": "ipython3",
   "version": "3.8.10"
  }
 },
 "nbformat": 4,
 "nbformat_minor": 5
}
